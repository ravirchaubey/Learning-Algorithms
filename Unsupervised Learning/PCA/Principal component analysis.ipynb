{
  "cells": [
    {
      "cell_type": "code",
      "execution_count": 1,
      "metadata": {
        "id": "xAbbSrG3DiR_"
      },
      "outputs": [],
      "source": [
        "import warnings\n",
        "warnings.filterwarnings('ignore')\n",
        "\n",
        "import numpy as np\n",
        "import pandas as pd\n",
        "import matplotlib.pyplot as plt\n",
        "%matplotlib inline\n",
        "import seaborn as sns"
      ]
    },
    {
      "cell_type": "markdown",
      "metadata": {
        "id": "cqM3DgdEDiSG"
      },
      "source": [
        "### Process Data"
      ]
    },
    {
      "cell_type": "code",
      "execution_count": 2,
      "metadata": {
        "id": "ejvnzfvSDiSK"
      },
      "outputs": [],
      "source": [
        "from sklearn.datasets import load_digits\n",
        "digits = load_digits()"
      ]
    },
    {
      "cell_type": "code",
      "execution_count": 3,
      "metadata": {
        "colab": {
          "base_uri": "https://localhost:8080/"
        },
        "id": "93NOSmyhDiSL",
        "outputId": "19388b4f-807e-4704-8f18-c411e8ce967f"
      },
      "outputs": [
        {
          "output_type": "execute_result",
          "data": {
            "text/plain": [
              "(1797, 64)"
            ]
          },
          "metadata": {},
          "execution_count": 3
        }
      ],
      "source": [
        "digits['data'].shape"
      ]
    },
    {
      "cell_type": "code",
      "execution_count": 4,
      "metadata": {
        "colab": {
          "base_uri": "https://localhost:8080/"
        },
        "id": "X_A9ysD2DiSN",
        "outputId": "b094a5a6-63e0-43f8-f8bf-2101282bc18e"
      },
      "outputs": [
        {
          "output_type": "execute_result",
          "data": {
            "text/plain": [
              "array([[ 0.,  0.,  5., ...,  0.,  0.,  0.],\n",
              "       [ 0.,  0.,  0., ..., 10.,  0.,  0.],\n",
              "       [ 0.,  0.,  0., ..., 16.,  9.,  0.],\n",
              "       ...,\n",
              "       [ 0.,  0.,  1., ...,  6.,  0.,  0.],\n",
              "       [ 0.,  0.,  2., ..., 12.,  0.,  0.],\n",
              "       [ 0.,  0., 10., ..., 12.,  1.,  0.]])"
            ]
          },
          "metadata": {},
          "execution_count": 4
        }
      ],
      "source": [
        "x = digits['data']\n",
        "x"
      ]
    },
    {
      "cell_type": "code",
      "execution_count": 5,
      "metadata": {
        "id": "w4YrJofnDiSQ"
      },
      "outputs": [],
      "source": [
        "from sklearn.preprocessing import scale\n",
        "x_scale = scale(x)"
      ]
    },
    {
      "cell_type": "markdown",
      "source": [
        "### Data Modelling"
      ],
      "metadata": {
        "id": "wRUr74mCDvgU"
      }
    },
    {
      "cell_type": "code",
      "execution_count": 6,
      "metadata": {
        "colab": {
          "base_uri": "https://localhost:8080/"
        },
        "id": "sO1aVk5RDiSS",
        "outputId": "0c4f3906-4490-4e51-b023-2b676676b283"
      },
      "outputs": [
        {
          "output_type": "execute_result",
          "data": {
            "text/plain": [
              "PCA()"
            ]
          },
          "metadata": {},
          "execution_count": 6
        }
      ],
      "source": [
        "from sklearn.decomposition import PCA\n",
        "pca = PCA()\n",
        "pca.fit(x_scale)"
      ]
    },
    {
      "cell_type": "code",
      "execution_count": 7,
      "metadata": {
        "colab": {
          "base_uri": "https://localhost:8080/"
        },
        "id": "nP3EsFkKDiSU",
        "outputId": "fbd72138-197e-4e07-a410-c6bbf2b398ad"
      },
      "outputs": [
        {
          "output_type": "execute_result",
          "data": {
            "text/plain": [
              "array([0.12033916, 0.09561054, 0.08444415, 0.06498408, 0.04860155])"
            ]
          },
          "metadata": {},
          "execution_count": 7
        }
      ],
      "source": [
        "#eigen value\n",
        "var = pca.explained_variance_ratio_\n",
        "var[:5]"
      ]
    },
    {
      "cell_type": "code",
      "execution_count": 8,
      "metadata": {
        "colab": {
          "base_uri": "https://localhost:8080/"
        },
        "id": "8pV8ObDhDiSV",
        "outputId": "72d1fb79-bcef-44b3-9120-d56507c2d8be"
      },
      "outputs": [
        {
          "output_type": "execute_result",
          "data": {
            "text/plain": [
              "(64,)"
            ]
          },
          "metadata": {},
          "execution_count": 8
        }
      ],
      "source": [
        "var.shape"
      ]
    },
    {
      "cell_type": "code",
      "execution_count": 9,
      "metadata": {
        "colab": {
          "base_uri": "https://localhost:8080/"
        },
        "id": "-siCCWzRDiSW",
        "outputId": "9366660f-3d86-4aa9-b49e-93a8797e6244"
      },
      "outputs": [
        {
          "output_type": "execute_result",
          "data": {
            "text/plain": [
              "(1797, 64)"
            ]
          },
          "metadata": {},
          "execution_count": 9
        }
      ],
      "source": [
        "x_scale.shape"
      ]
    },
    {
      "cell_type": "code",
      "execution_count": 10,
      "metadata": {
        "colab": {
          "base_uri": "https://localhost:8080/"
        },
        "id": "rOTqP8q9DiSW",
        "outputId": "95dfe8e0-3bf3-4348-e293-5f8c3745a174"
      },
      "outputs": [
        {
          "output_type": "execute_result",
          "data": {
            "text/plain": [
              "(64, 64)"
            ]
          },
          "metadata": {},
          "execution_count": 10
        }
      ],
      "source": [
        "#eigen vectors\n",
        "components = pca.components_\n",
        "components.shape"
      ]
    },
    {
      "cell_type": "code",
      "execution_count": 11,
      "metadata": {
        "colab": {
          "base_uri": "https://localhost:8080/"
        },
        "id": "PP7lMeafDiSX",
        "outputId": "e1a6c83c-c18a-48ba-87df-2ba9c622ce64"
      },
      "outputs": [
        {
          "output_type": "execute_result",
          "data": {
            "text/plain": [
              "array([[ 1.21482737e-18, -1.82233917e-01, -2.85867997e-01, ...,\n",
              "        -1.03198001e-01, -1.19810604e-01, -7.14936163e-02],\n",
              "       [-7.62433540e-19,  4.70270076e-02,  5.95647953e-02, ...,\n",
              "        -2.42617777e-01, -1.65089262e-01, -7.13292370e-02],\n",
              "       [-3.56880226e-18,  2.35882143e-02, -5.67987457e-02, ...,\n",
              "        -2.22795243e-02,  1.00365586e-01,  9.24458865e-02],\n",
              "       ...,\n",
              "       [-0.00000000e+00,  8.16570627e-17,  1.34006326e-16, ...,\n",
              "         1.66533454e-16, -1.73472348e-17, -2.22044605e-16],\n",
              "       [ 0.00000000e+00,  3.41003582e-17, -2.15119387e-17, ...,\n",
              "        -6.89552582e-17,  3.61039323e-17,  6.11490025e-17],\n",
              "       [ 1.00000000e+00, -2.83191000e-18,  5.03596637e-18, ...,\n",
              "         9.44646642e-18, -1.19101943e-17,  1.39873617e-18]])"
            ]
          },
          "metadata": {},
          "execution_count": 11
        }
      ],
      "source": [
        "components"
      ]
    },
    {
      "cell_type": "markdown",
      "metadata": {
        "id": "8ta9F6hPDiSX"
      },
      "source": [
        "### Scree plot\n",
        "\n",
        "To find optimal number of Components."
      ]
    },
    {
      "cell_type": "code",
      "execution_count": 12,
      "metadata": {
        "colab": {
          "base_uri": "https://localhost:8080/"
        },
        "id": "cQxj8X8CDiSY",
        "outputId": "ccb6ed38-8f8b-4a90-9184-85bf95d40564"
      },
      "outputs": [
        {
          "output_type": "execute_result",
          "data": {
            "text/plain": [
              "array([ 12.03,  21.59,  30.03,  36.53,  41.39,  45.6 ,  49.54,  52.93,\n",
              "        55.93,  58.86,  61.64,  64.22,  66.5 ,  68.73,  70.9 ,  72.81,\n",
              "        74.59,  76.23,  77.83,  79.32,  80.67,  81.94,  83.11,  84.17,\n",
              "        85.15,  86.09,  86.95,  87.79,  88.59,  89.34,  90.07,  90.76,\n",
              "        91.41,  92.05,  92.64,  93.21,  93.73,  94.21,  94.66,  95.08,\n",
              "        95.49,  95.89,  96.25,  96.59,  96.92,  97.23,  97.52,  97.8 ,\n",
              "        98.06,  98.29,  98.51,  98.71,  98.91,  99.09,  99.26,  99.42,\n",
              "        99.57,  99.71,  99.84,  99.94, 100.02, 100.02, 100.02, 100.02])"
            ]
          },
          "metadata": {},
          "execution_count": 12
        }
      ],
      "source": [
        "var_cum_sum = np.cumsum(np.round(pca.explained_variance_ratio_,4))*100\n",
        "var_cum_sum"
      ]
    },
    {
      "cell_type": "code",
      "execution_count": 13,
      "metadata": {
        "colab": {
          "base_uri": "https://localhost:8080/",
          "height": 352
        },
        "id": "UTCn9a3ODiSY",
        "outputId": "555f6554-89e0-40a4-bda4-27eb2e1d07a9"
      },
      "outputs": [
        {
          "output_type": "display_data",
          "data": {
            "image/png": "[encoded data removed]",
            "text/plain": [
              "<Figure size 400x250 with 1 Axes>"
            ]
          },
          "metadata": {}
        }
      ],
      "source": [
        "sns.set_style('whitegrid')\n",
        "fig = plt.figure(dpi = 100,figsize=(4,2.5))\n",
        "ax = fig.add_axes([1,1,1,1])\n",
        "\n",
        "ax.plot(var_cum_sum)\n",
        "ax.axhline(y = 99,color = 'red',ls = '--')\n",
        "ax.axvline(x = 52,color = 'red',ls = '--')\n",
        "ax.set(xlabel = 'n components',\n",
        "      ylabel = 'Cumulative Explained Variance Ration',\n",
        "      title = 'Scree Plot');"
      ]
    },
    {
      "cell_type": "markdown",
      "metadata": {
        "id": "iSRUlIMzDiSZ"
      },
      "source": [
        "### PCA Model (Final)"
      ]
    },
    {
      "cell_type": "code",
      "execution_count": 14,
      "metadata": {
        "id": "DD2NEpa9DiSa"
      },
      "outputs": [],
      "source": [
        "#52 component to preserve 90% variance\n",
        "pca_final = PCA(n_components=52)"
      ]
    },
    {
      "cell_type": "code",
      "execution_count": 15,
      "metadata": {
        "colab": {
          "base_uri": "https://localhost:8080/"
        },
        "id": "QW0jYHEeDiSa",
        "outputId": "8a254fd2-da52-4bf8-f3f0-1fcf8c24434c"
      },
      "outputs": [
        {
          "output_type": "execute_result",
          "data": {
            "text/plain": [
              "PCA(n_components=52)"
            ]
          },
          "metadata": {},
          "execution_count": 15
        }
      ],
      "source": [
        "pca_final.fit(x_scale)"
      ]
    },
    {
      "cell_type": "markdown",
      "metadata": {
        "id": "QpudTt8QDiSd"
      },
      "source": [
        "### Compress Data"
      ]
    },
    {
      "cell_type": "code",
      "execution_count": 16,
      "metadata": {
        "id": "iXtenADIDiSd"
      },
      "outputs": [],
      "source": [
        "newData = pca_final.transform(x_scale)"
      ]
    },
    {
      "cell_type": "code",
      "execution_count": 17,
      "metadata": {
        "colab": {
          "base_uri": "https://localhost:8080/"
        },
        "id": "kJMCUxgoDiSd",
        "outputId": "100824ba-b30c-4b15-aaa8-73c0e69539e7"
      },
      "outputs": [
        {
          "output_type": "execute_result",
          "data": {
            "text/plain": [
              "(1797, 52)"
            ]
          },
          "metadata": {},
          "execution_count": 17
        }
      ],
      "source": [
        "newData.shape"
      ]
    },
    {
      "cell_type": "markdown",
      "metadata": {
        "id": "8c9HRrGQDiSe"
      },
      "source": [
        "### Decompress Data (Reverse transformation)"
      ]
    },
    {
      "cell_type": "code",
      "execution_count": 18,
      "metadata": {
        "id": "jGeZuB8ODiSe"
      },
      "outputs": [],
      "source": [
        "originalData = pca_final.inverse_transform(newData)"
      ]
    },
    {
      "cell_type": "code",
      "execution_count": 19,
      "metadata": {
        "colab": {
          "base_uri": "https://localhost:8080/"
        },
        "id": "ggBYmBNKDiSf",
        "outputId": "e2206878-a7f5-43ea-b54f-041a1bbb5f24"
      },
      "outputs": [
        {
          "output_type": "execute_result",
          "data": {
            "text/plain": [
              "(1797, 64)"
            ]
          },
          "metadata": {},
          "execution_count": 19
        }
      ],
      "source": [
        "originalData.shape"
      ]
    }
  ],
  "metadata": {
    "kernelspec": {
      "display_name": "Python 3",
      "language": "python",
      "name": "python3"
    },
    "language_info": {
      "codemirror_mode": {
        "name": "ipython",
        "version": 3
      },
      "file_extension": ".py",
      "mimetype": "text/x-python",
      "name": "python",
      "nbconvert_exporter": "python",
      "pygments_lexer": "ipython3",
      "version": "3.8.5"
    },
    "colab": {
      "name": "Principal component analysis.ipynb",
      "provenance": []
    }
  },
  "nbformat": 4,
  "nbformat_minor": 0
}